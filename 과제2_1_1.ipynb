{
  "nbformat": 4,
  "nbformat_minor": 0,
  "metadata": {
    "colab": {
      "provenance": []
    },
    "kernelspec": {
      "name": "python3",
      "display_name": "Python 3"
    },
    "language_info": {
      "name": "python"
    }
  },
  "cells": [
    {
      "cell_type": "code",
      "execution_count": null,
      "metadata": {
        "colab": {
          "base_uri": "https://localhost:8080/"
        },
        "id": "g9mI-mcj6nOn",
        "outputId": "e79de98c-1240-4a83-bed2-cd9e7c2ecb09"
      },
      "outputs": [
        {
          "output_type": "stream",
          "name": "stdout",
          "text": [
            "2024년 01월 12일 16시 10분 기준 장마감\n",
            "종목명 현대오토에버\n",
            "종목코드 307950 코스피\n",
            "현재가 185,200 전일대비 하락 6,800 마이너스 3.54 퍼센트\n",
            "전일가 192,000\n",
            "시가 191,000\n",
            "고가 191,900\n",
            "상한가 249,500\n",
            "저가 182,200\n",
            "하한가 134,400\n",
            "거래량 140,887\n",
            "거래대금 26,183백만\n"
          ]
        }
      ],
      "source": [
        "import urllib.request\n",
        "import re\n",
        "\n",
        "url = \"https://finance.naver.com/item/main.naver?code=307950\"\n",
        "a = urllib.request.urlopen(url)\n",
        "b = str(a.read().decode(\"ms949\"))\n",
        "c = re.findall(\"(\\<dl class=\\\"blind\\\"\\>)([\\s\\S]+?)(\\<\\/dl\\>)\",b)\n",
        "\n",
        "d = c[0]\n",
        "e = d[1]\n",
        "\n",
        "f = re.findall(\"(\\<dd\\>)([\\s\\S]+?)(\\<\\/dd\\>)\",e)\n",
        "for i in f:\n",
        "  print(i[1])"
      ]
    }
  ]
}